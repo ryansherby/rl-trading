{
 "cells": [
  {
   "cell_type": "code",
   "execution_count": 1,
   "metadata": {},
   "outputs": [],
   "source": [
    "import torch\n",
    "import torch.nn as nn\n",
    "\n",
    "import numpy as np\n",
    "import pandas as pd\n",
    "\n",
    "from Alpha101_code import get_alpha\n",
    "\n"
   ]
  },
  {
   "cell_type": "code",
   "execution_count": 2,
   "metadata": {},
   "outputs": [],
   "source": [
    "btc_df = pd.read_csv('bitcoin_2005-04-08_2024-12-31.csv')"
   ]
  },
  {
   "cell_type": "code",
   "execution_count": 3,
   "metadata": {},
   "outputs": [],
   "source": [
    "btc_df['Average'] = (btc_df['High'] + btc_df['Low'] + btc_df['Close']) / 3"
   ]
  },
  {
   "cell_type": "code",
   "execution_count": 4,
   "metadata": {},
   "outputs": [],
   "source": [
    "btc_df['Volume'] = btc_df['Volume'].apply(lambda x: 1 if x < 1 else x)"
   ]
  },
  {
   "cell_type": "code",
   "execution_count": 6,
   "metadata": {},
   "outputs": [],
   "source": [
    "btc_df['VWAP'] = ((btc_df['Average'] * btc_df['Volume']).loc[::-1].cumsum() / btc_df['Volume'].loc[::-1].cumsum()).loc[::-1]"
   ]
  },
  {
   "cell_type": "code",
   "execution_count": 7,
   "metadata": {},
   "outputs": [],
   "source": [
    "btc_df['Returns'] = btc_df['Close'][::-1].pct_change()[::-1]"
   ]
  },
  {
   "cell_type": "code",
   "execution_count": 8,
   "metadata": {},
   "outputs": [],
   "source": [
    "btc_df.fillna(0, inplace=True)"
   ]
  },
  {
   "cell_type": "code",
   "execution_count": 9,
   "metadata": {},
   "outputs": [],
   "source": [
    "reversed = btc_df[::-1].copy().reset_index(drop=True)"
   ]
  },
  {
   "cell_type": "code",
   "execution_count": 10,
   "metadata": {},
   "outputs": [
    {
     "data": {
      "text/html": [
       "<div>\n",
       "<style scoped>\n",
       "    .dataframe tbody tr th:only-of-type {\n",
       "        vertical-align: middle;\n",
       "    }\n",
       "\n",
       "    .dataframe tbody tr th {\n",
       "        vertical-align: top;\n",
       "    }\n",
       "\n",
       "    .dataframe thead th {\n",
       "        text-align: right;\n",
       "    }\n",
       "</style>\n",
       "<table border=\"1\" class=\"dataframe\">\n",
       "  <thead>\n",
       "    <tr style=\"text-align: right;\">\n",
       "      <th></th>\n",
       "      <th>Start</th>\n",
       "      <th>End</th>\n",
       "      <th>Open</th>\n",
       "      <th>High</th>\n",
       "      <th>Low</th>\n",
       "      <th>Close</th>\n",
       "      <th>Volume</th>\n",
       "      <th>Market Cap</th>\n",
       "      <th>Average</th>\n",
       "      <th>VWAP</th>\n",
       "      <th>Returns</th>\n",
       "    </tr>\n",
       "  </thead>\n",
       "  <tbody>\n",
       "    <tr>\n",
       "      <th>0</th>\n",
       "      <td>2010-07-17</td>\n",
       "      <td>2010-07-18</td>\n",
       "      <td>0.0500</td>\n",
       "      <td>0.0500</td>\n",
       "      <td>0.0500</td>\n",
       "      <td>0.0500</td>\n",
       "      <td>1.000000e+00</td>\n",
       "      <td>1.708032e+05</td>\n",
       "      <td>0.050000</td>\n",
       "      <td>0.050000</td>\n",
       "      <td>0.000000</td>\n",
       "    </tr>\n",
       "    <tr>\n",
       "      <th>1</th>\n",
       "      <td>2010-07-18</td>\n",
       "      <td>2010-07-19</td>\n",
       "      <td>0.0858</td>\n",
       "      <td>0.0858</td>\n",
       "      <td>0.0858</td>\n",
       "      <td>0.0858</td>\n",
       "      <td>1.000000e+00</td>\n",
       "      <td>2.947466e+05</td>\n",
       "      <td>0.085800</td>\n",
       "      <td>0.067900</td>\n",
       "      <td>0.716000</td>\n",
       "    </tr>\n",
       "    <tr>\n",
       "      <th>2</th>\n",
       "      <td>2010-07-19</td>\n",
       "      <td>2010-07-20</td>\n",
       "      <td>0.0808</td>\n",
       "      <td>0.0808</td>\n",
       "      <td>0.0808</td>\n",
       "      <td>0.0808</td>\n",
       "      <td>1.000000e+00</td>\n",
       "      <td>2.775702e+05</td>\n",
       "      <td>0.080800</td>\n",
       "      <td>0.072200</td>\n",
       "      <td>-0.058275</td>\n",
       "    </tr>\n",
       "    <tr>\n",
       "      <th>3</th>\n",
       "      <td>2010-07-20</td>\n",
       "      <td>2010-07-21</td>\n",
       "      <td>0.0747</td>\n",
       "      <td>0.0747</td>\n",
       "      <td>0.0747</td>\n",
       "      <td>0.0747</td>\n",
       "      <td>1.000000e+00</td>\n",
       "      <td>2.567102e+05</td>\n",
       "      <td>0.074700</td>\n",
       "      <td>0.072825</td>\n",
       "      <td>-0.075495</td>\n",
       "    </tr>\n",
       "    <tr>\n",
       "      <th>4</th>\n",
       "      <td>2010-07-21</td>\n",
       "      <td>2010-07-22</td>\n",
       "      <td>0.0792</td>\n",
       "      <td>0.0792</td>\n",
       "      <td>0.0792</td>\n",
       "      <td>0.0792</td>\n",
       "      <td>1.000000e+00</td>\n",
       "      <td>2.743084e+05</td>\n",
       "      <td>0.079200</td>\n",
       "      <td>0.074100</td>\n",
       "      <td>0.060241</td>\n",
       "    </tr>\n",
       "    <tr>\n",
       "      <th>...</th>\n",
       "      <td>...</td>\n",
       "      <td>...</td>\n",
       "      <td>...</td>\n",
       "      <td>...</td>\n",
       "      <td>...</td>\n",
       "      <td>...</td>\n",
       "      <td>...</td>\n",
       "      <td>...</td>\n",
       "      <td>...</td>\n",
       "      <td>...</td>\n",
       "      <td>...</td>\n",
       "    </tr>\n",
       "    <tr>\n",
       "      <th>5277</th>\n",
       "      <td>2024-12-27</td>\n",
       "      <td>2024-12-28</td>\n",
       "      <td>95848.0700</td>\n",
       "      <td>97199.9600</td>\n",
       "      <td>93527.7500</td>\n",
       "      <td>94452.5700</td>\n",
       "      <td>6.623154e+10</td>\n",
       "      <td>1.892534e+12</td>\n",
       "      <td>95060.093333</td>\n",
       "      <td>40915.174011</td>\n",
       "      <td>-0.014378</td>\n",
       "    </tr>\n",
       "    <tr>\n",
       "      <th>5278</th>\n",
       "      <td>2024-12-28</td>\n",
       "      <td>2024-12-29</td>\n",
       "      <td>94394.8800</td>\n",
       "      <td>95394.0700</td>\n",
       "      <td>94098.1200</td>\n",
       "      <td>95204.0700</td>\n",
       "      <td>5.404795e+10</td>\n",
       "      <td>1.875426e+12</td>\n",
       "      <td>94898.753333</td>\n",
       "      <td>40938.193510</td>\n",
       "      <td>0.007956</td>\n",
       "    </tr>\n",
       "    <tr>\n",
       "      <th>5279</th>\n",
       "      <td>2024-12-29</td>\n",
       "      <td>2024-12-30</td>\n",
       "      <td>95233.8700</td>\n",
       "      <td>95272.0300</td>\n",
       "      <td>93069.7200</td>\n",
       "      <td>93659.5600</td>\n",
       "      <td>3.566003e+10</td>\n",
       "      <td>1.872837e+12</td>\n",
       "      <td>94000.436667</td>\n",
       "      <td>40953.118021</td>\n",
       "      <td>-0.016223</td>\n",
       "    </tr>\n",
       "    <tr>\n",
       "      <th>5280</th>\n",
       "      <td>2024-12-30</td>\n",
       "      <td>2024-12-31</td>\n",
       "      <td>93610.5900</td>\n",
       "      <td>94951.1800</td>\n",
       "      <td>91603.0600</td>\n",
       "      <td>92811.0300</td>\n",
       "      <td>5.833191e+10</td>\n",
       "      <td>1.850688e+12</td>\n",
       "      <td>93121.756667</td>\n",
       "      <td>40977.109045</td>\n",
       "      <td>-0.009060</td>\n",
       "    </tr>\n",
       "    <tr>\n",
       "      <th>5281</th>\n",
       "      <td>2024-12-31</td>\n",
       "      <td>2025-01-01</td>\n",
       "      <td>92728.0700</td>\n",
       "      <td>96016.0100</td>\n",
       "      <td>92161.9600</td>\n",
       "      <td>93647.0100</td>\n",
       "      <td>7.535185e+10</td>\n",
       "      <td>1.856486e+12</td>\n",
       "      <td>93941.660000</td>\n",
       "      <td>41008.554245</td>\n",
       "      <td>0.009007</td>\n",
       "    </tr>\n",
       "  </tbody>\n",
       "</table>\n",
       "<p>5282 rows × 11 columns</p>\n",
       "</div>"
      ],
      "text/plain": [
       "           Start         End        Open        High         Low       Close  \\\n",
       "0     2010-07-17  2010-07-18      0.0500      0.0500      0.0500      0.0500   \n",
       "1     2010-07-18  2010-07-19      0.0858      0.0858      0.0858      0.0858   \n",
       "2     2010-07-19  2010-07-20      0.0808      0.0808      0.0808      0.0808   \n",
       "3     2010-07-20  2010-07-21      0.0747      0.0747      0.0747      0.0747   \n",
       "4     2010-07-21  2010-07-22      0.0792      0.0792      0.0792      0.0792   \n",
       "...          ...         ...         ...         ...         ...         ...   \n",
       "5277  2024-12-27  2024-12-28  95848.0700  97199.9600  93527.7500  94452.5700   \n",
       "5278  2024-12-28  2024-12-29  94394.8800  95394.0700  94098.1200  95204.0700   \n",
       "5279  2024-12-29  2024-12-30  95233.8700  95272.0300  93069.7200  93659.5600   \n",
       "5280  2024-12-30  2024-12-31  93610.5900  94951.1800  91603.0600  92811.0300   \n",
       "5281  2024-12-31  2025-01-01  92728.0700  96016.0100  92161.9600  93647.0100   \n",
       "\n",
       "            Volume    Market Cap       Average          VWAP   Returns  \n",
       "0     1.000000e+00  1.708032e+05      0.050000      0.050000  0.000000  \n",
       "1     1.000000e+00  2.947466e+05      0.085800      0.067900  0.716000  \n",
       "2     1.000000e+00  2.775702e+05      0.080800      0.072200 -0.058275  \n",
       "3     1.000000e+00  2.567102e+05      0.074700      0.072825 -0.075495  \n",
       "4     1.000000e+00  2.743084e+05      0.079200      0.074100  0.060241  \n",
       "...            ...           ...           ...           ...       ...  \n",
       "5277  6.623154e+10  1.892534e+12  95060.093333  40915.174011 -0.014378  \n",
       "5278  5.404795e+10  1.875426e+12  94898.753333  40938.193510  0.007956  \n",
       "5279  3.566003e+10  1.872837e+12  94000.436667  40953.118021 -0.016223  \n",
       "5280  5.833191e+10  1.850688e+12  93121.756667  40977.109045 -0.009060  \n",
       "5281  7.535185e+10  1.856486e+12  93941.660000  41008.554245  0.009007  \n",
       "\n",
       "[5282 rows x 11 columns]"
      ]
     },
     "execution_count": 10,
     "metadata": {},
     "output_type": "execute_result"
    }
   ],
   "source": [
    "reversed"
   ]
  },
  {
   "cell_type": "code",
   "execution_count": 11,
   "metadata": {},
   "outputs": [
    {
     "name": "stderr",
     "output_type": "stream",
     "text": [
      "/Users/ryansherby/Library/CloudStorage/OneDrive-Personal/Documents/Columbia/Reinforcement Learning/Project/Alpha101_code.py:289: SettingWithCopyWarning: \n",
      "A value is trying to be set on a copy of a slice from a DataFrame\n",
      "\n",
      "See the caveats in the documentation: https://pandas.pydata.org/pandas-docs/stable/user_guide/indexing.html#returning-a-view-versus-a-copy\n",
      "  inner[self.returns < 0] = stddev(self.returns, 20)\n"
     ]
    }
   ],
   "source": [
    "btc_df = get_alpha(reversed)[::-1].copy().reset_index(drop=True)"
   ]
  },
  {
   "cell_type": "code",
   "execution_count": 12,
   "metadata": {},
   "outputs": [],
   "source": [
    "btc_df.fillna(0, inplace=True)"
   ]
  },
  {
   "cell_type": "code",
   "execution_count": 13,
   "metadata": {},
   "outputs": [],
   "source": [
    "btc_df['Start'] = pd.to_datetime(btc_df['Start'])\n",
    "btc_df['End'] = pd.to_datetime(btc_df['End'])"
   ]
  },
  {
   "cell_type": "code",
   "execution_count": 14,
   "metadata": {},
   "outputs": [],
   "source": [
    "btc_df_train = btc_df[btc_df['Start'] < '2024-01-01']\n",
    "btc_df_test = btc_df[btc_df['Start'] >= '2024-01-01']\n",
    "btc_df_train = btc_df_train.reset_index(drop=True)\n",
    "btc_df_test = btc_df_test.reset_index(drop=True)"
   ]
  },
  {
   "cell_type": "markdown",
   "metadata": {},
   "source": []
  }
 ],
 "metadata": {
  "kernelspec": {
   "display_name": "pyML",
   "language": "python",
   "name": "python3"
  },
  "language_info": {
   "codemirror_mode": {
    "name": "ipython",
    "version": 3
   },
   "file_extension": ".py",
   "mimetype": "text/x-python",
   "name": "python",
   "nbconvert_exporter": "python",
   "pygments_lexer": "ipython3",
   "version": "3.11.8"
  }
 },
 "nbformat": 4,
 "nbformat_minor": 2
}
